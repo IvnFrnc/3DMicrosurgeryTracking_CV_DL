{
  "nbformat": 4,
  "nbformat_minor": 0,
  "metadata": {
    "colab": {
      "provenance": []
    },
    "kernelspec": {
      "name": "python3",
      "display_name": "Python 3"
    },
    "language_info": {
      "name": "python"
    }
  },
  "cells": [
    {
      "cell_type": "code",
      "execution_count": null,
      "metadata": {
        "id": "8GKnK7wvS0O1"
      },
      "outputs": [],
      "source": [
        "# Training a YOLO model for microsurgery tracking, starting here\n",
        "\n",
        "from google.colab import drive\n",
        "drive.mount('/content/drive')"
      ]
    },
    {
      "cell_type": "code",
      "source": [
        "ROOT_DIR = '/content/drive/MyDrive/DatasetMitracksYOLO/datasets'"
      ],
      "metadata": {
        "id": "2aXeQJFyTv_H"
      },
      "execution_count": null,
      "outputs": []
    },
    {
      "cell_type": "code",
      "source": [
        "!pip install ultralytics"
      ],
      "metadata": {
        "id": "usCjDfD-Tzis"
      },
      "execution_count": null,
      "outputs": []
    },
    {
      "cell_type": "code",
      "source": [
        "import os\n",
        "\n",
        "from ultralytics import YOLO\n",
        "\n",
        "# Load a model\n",
        "model = YOLO(\"yolov8n.yaml\")  # build a new model from scratch, you can use the model yolov8X  where X is n, m, l, etc (n (of nano) is great to start)\n",
        "\n",
        "# Train the model\n",
        "results = model.train(data=os.path.join(ROOT_DIR, \"config_train_COLAB_2Tweezers\"), epochs=100)  # for example, train the model starting with 100 epochs"
      ],
      "metadata": {
        "id": "hlqp8rFgT1Dy"
      },
      "execution_count": null,
      "outputs": []
    },
    {
      "cell_type": "code",
      "source": [
        "import locale\n",
        "print(locale.getpreferredencoding())\n",
        "\n",
        "def getpreferredencoding(do_setlocale = True):\n",
        "    return \"UTF-8\"\n",
        "locale.getpreferredencoding = getpreferredencoding\n",
        "\n",
        "!scp -r /content/runs '/content/drive/MyDrive/DatasetMitracksYOLO/TEST_NAME'    # Remember, Use your own path"
      ],
      "metadata": {
        "id": "WV2LiE3gT2Y6"
      },
      "execution_count": null,
      "outputs": []
    },
    {
      "cell_type": "code",
      "source": [
        "!zip -r /content/TEST_NAME.zip /content/runs"
      ],
      "metadata": {
        "id": "04xoCl5wT2SW"
      },
      "execution_count": null,
      "outputs": []
    },
    {
      "cell_type": "code",
      "source": [
        "import locale\n",
        "print(locale.getpreferredencoding())"
      ],
      "metadata": {
        "id": "p7U39kkPT2KO"
      },
      "execution_count": null,
      "outputs": []
    },
    {
      "cell_type": "code",
      "source": [
        "def getpreferredencoding(do_setlocale = True):\n",
        "    return \"UTF-8\"\n",
        "locale.getpreferredencoding = getpreferredencoding"
      ],
      "metadata": {
        "id": "_BCScRFcT2Cj"
      },
      "execution_count": null,
      "outputs": []
    },
    {
      "cell_type": "code",
      "source": [
        "from google.colab import files\n",
        "files.download(\"/content/TEST_NAME.zip\")"
      ],
      "metadata": {
        "id": "tvgO0492URjx"
      },
      "execution_count": null,
      "outputs": []
    }
  ]
}